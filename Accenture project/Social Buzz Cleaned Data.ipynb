{
 "cells": [
  {
   "cell_type": "code",
   "execution_count": null,
   "id": "5ed9ccac",
   "metadata": {},
   "outputs": [],
   "source": [
    "import pandas\n",
    "\n",
    "\n",
    "#Importing data from csv files\n",
    "content = pandas.read_csv('c:/Users/nah/Desktop/DS-RESOURCES/Projects/Accenture Data Analysis/Original Data/Content.csv')\n",
    "\n",
    "content.head()"
   ]
  },
  {
   "cell_type": "code",
   "execution_count": null,
   "id": "ebbb2bc2",
   "metadata": {},
   "outputs": [],
   "source": []
  }
 ],
 "metadata": {
  "kernelspec": {
   "display_name": "Python 3",
   "language": "python",
   "name": "python3"
  },
  "language_info": {
   "codemirror_mode": {
    "name": "ipython",
    "version": 3
   },
   "file_extension": ".py",
   "mimetype": "text/x-python",
   "name": "python",
   "nbconvert_exporter": "python",
   "pygments_lexer": "ipython3",
   "version": "3.8.8"
  }
 },
 "nbformat": 4,
 "nbformat_minor": 5
}
