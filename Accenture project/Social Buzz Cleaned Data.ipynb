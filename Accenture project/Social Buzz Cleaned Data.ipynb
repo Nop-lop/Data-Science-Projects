{
 "cells": [
  {
   "attachments": {},
   "cell_type": "markdown",
   "metadata": {
    "datalore": {
     "hide_input_from_viewers": false,
     "hide_output_from_viewers": false,
     "node_id": "E9xBkRTHFTlVhhTxDvgdXC",
     "report_properties": {},
     "type": "MD"
    }
   },
   "source": [
    "### 1. Import libraries and load data"
   ]
  },
  {
   "cell_type": "code",
   "execution_count": 1,
   "metadata": {
    "datalore": {
     "hide_input_from_viewers": false,
     "hide_output_from_viewers": false,
     "node_id": "ztDpxLnOwdJEE8HcB9CmD5",
     "report_properties": {},
     "type": "CODE"
    }
   },
   "outputs": [
    {
     "ename": "FileNotFoundError",
     "evalue": "[Errno 2] No such file or directory: 'Content.csv'",
     "output_type": "error",
     "traceback": [
      "\u001b[0;31m---------------------------------------------------------------------------\u001b[0m",
      "\u001b[0;31mFileNotFoundError\u001b[0m                         Traceback (most recent call last)",
      "\u001b[1;32m/workspaces/Data-Science-Projects/Accenture project/Social Buzz Cleaned Data.ipynb Cell 2\u001b[0m line \u001b[0;36m4\n\u001b[1;32m      <a href='vscode-notebook-cell://codespaces%2Borganic-space-potato-94pvrgxvrx27xgj/workspaces/Data-Science-Projects/Accenture%20project/Social%20Buzz%20Cleaned%20Data.ipynb#W1sdnNjb2RlLXJlbW90ZQ%3D%3D?line=0'>1</a>\u001b[0m \u001b[39mimport\u001b[39;00m \u001b[39mpandas\u001b[39;00m \u001b[39mas\u001b[39;00m \u001b[39mpd\u001b[39;00m\n\u001b[1;32m      <a href='vscode-notebook-cell://codespaces%2Borganic-space-potato-94pvrgxvrx27xgj/workspaces/Data-Science-Projects/Accenture%20project/Social%20Buzz%20Cleaned%20Data.ipynb#W1sdnNjb2RlLXJlbW90ZQ%3D%3D?line=2'>3</a>\u001b[0m \u001b[39m# Load data from csv files\u001b[39;00m\n\u001b[0;32m----> <a href='vscode-notebook-cell://codespaces%2Borganic-space-potato-94pvrgxvrx27xgj/workspaces/Data-Science-Projects/Accenture%20project/Social%20Buzz%20Cleaned%20Data.ipynb#W1sdnNjb2RlLXJlbW90ZQ%3D%3D?line=3'>4</a>\u001b[0m content \u001b[39m=\u001b[39m pd\u001b[39m.\u001b[39;49mread_csv(\u001b[39m\"\u001b[39;49m\u001b[39mContent.csv\u001b[39;49m\u001b[39m\"\u001b[39;49m)\n\u001b[1;32m      <a href='vscode-notebook-cell://codespaces%2Borganic-space-potato-94pvrgxvrx27xgj/workspaces/Data-Science-Projects/Accenture%20project/Social%20Buzz%20Cleaned%20Data.ipynb#W1sdnNjb2RlLXJlbW90ZQ%3D%3D?line=4'>5</a>\u001b[0m reaction_types \u001b[39m=\u001b[39m pd\u001b[39m.\u001b[39mread_csv(\u001b[39m'\u001b[39m\u001b[39mReactionTypes.csv\u001b[39m\u001b[39m'\u001b[39m)\n\u001b[1;32m      <a href='vscode-notebook-cell://codespaces%2Borganic-space-potato-94pvrgxvrx27xgj/workspaces/Data-Science-Projects/Accenture%20project/Social%20Buzz%20Cleaned%20Data.ipynb#W1sdnNjb2RlLXJlbW90ZQ%3D%3D?line=5'>6</a>\u001b[0m reactions \u001b[39m=\u001b[39m pd\u001b[39m.\u001b[39mread_csv(\u001b[39m'\u001b[39m\u001b[39mReactions.csv\u001b[39m\u001b[39m'\u001b[39m)\n",
      "File \u001b[0;32m~/.local/lib/python3.10/site-packages/pandas/io/parsers/readers.py:948\u001b[0m, in \u001b[0;36mread_csv\u001b[0;34m(filepath_or_buffer, sep, delimiter, header, names, index_col, usecols, dtype, engine, converters, true_values, false_values, skipinitialspace, skiprows, skipfooter, nrows, na_values, keep_default_na, na_filter, verbose, skip_blank_lines, parse_dates, infer_datetime_format, keep_date_col, date_parser, date_format, dayfirst, cache_dates, iterator, chunksize, compression, thousands, decimal, lineterminator, quotechar, quoting, doublequote, escapechar, comment, encoding, encoding_errors, dialect, on_bad_lines, delim_whitespace, low_memory, memory_map, float_precision, storage_options, dtype_backend)\u001b[0m\n\u001b[1;32m    935\u001b[0m kwds_defaults \u001b[39m=\u001b[39m _refine_defaults_read(\n\u001b[1;32m    936\u001b[0m     dialect,\n\u001b[1;32m    937\u001b[0m     delimiter,\n\u001b[0;32m   (...)\u001b[0m\n\u001b[1;32m    944\u001b[0m     dtype_backend\u001b[39m=\u001b[39mdtype_backend,\n\u001b[1;32m    945\u001b[0m )\n\u001b[1;32m    946\u001b[0m kwds\u001b[39m.\u001b[39mupdate(kwds_defaults)\n\u001b[0;32m--> 948\u001b[0m \u001b[39mreturn\u001b[39;00m _read(filepath_or_buffer, kwds)\n",
      "File \u001b[0;32m~/.local/lib/python3.10/site-packages/pandas/io/parsers/readers.py:611\u001b[0m, in \u001b[0;36m_read\u001b[0;34m(filepath_or_buffer, kwds)\u001b[0m\n\u001b[1;32m    608\u001b[0m _validate_names(kwds\u001b[39m.\u001b[39mget(\u001b[39m\"\u001b[39m\u001b[39mnames\u001b[39m\u001b[39m\"\u001b[39m, \u001b[39mNone\u001b[39;00m))\n\u001b[1;32m    610\u001b[0m \u001b[39m# Create the parser.\u001b[39;00m\n\u001b[0;32m--> 611\u001b[0m parser \u001b[39m=\u001b[39m TextFileReader(filepath_or_buffer, \u001b[39m*\u001b[39;49m\u001b[39m*\u001b[39;49mkwds)\n\u001b[1;32m    613\u001b[0m \u001b[39mif\u001b[39;00m chunksize \u001b[39mor\u001b[39;00m iterator:\n\u001b[1;32m    614\u001b[0m     \u001b[39mreturn\u001b[39;00m parser\n",
      "File \u001b[0;32m~/.local/lib/python3.10/site-packages/pandas/io/parsers/readers.py:1448\u001b[0m, in \u001b[0;36mTextFileReader.__init__\u001b[0;34m(self, f, engine, **kwds)\u001b[0m\n\u001b[1;32m   1445\u001b[0m     \u001b[39mself\u001b[39m\u001b[39m.\u001b[39moptions[\u001b[39m\"\u001b[39m\u001b[39mhas_index_names\u001b[39m\u001b[39m\"\u001b[39m] \u001b[39m=\u001b[39m kwds[\u001b[39m\"\u001b[39m\u001b[39mhas_index_names\u001b[39m\u001b[39m\"\u001b[39m]\n\u001b[1;32m   1447\u001b[0m \u001b[39mself\u001b[39m\u001b[39m.\u001b[39mhandles: IOHandles \u001b[39m|\u001b[39m \u001b[39mNone\u001b[39;00m \u001b[39m=\u001b[39m \u001b[39mNone\u001b[39;00m\n\u001b[0;32m-> 1448\u001b[0m \u001b[39mself\u001b[39m\u001b[39m.\u001b[39m_engine \u001b[39m=\u001b[39m \u001b[39mself\u001b[39;49m\u001b[39m.\u001b[39;49m_make_engine(f, \u001b[39mself\u001b[39;49m\u001b[39m.\u001b[39;49mengine)\n",
      "File \u001b[0;32m~/.local/lib/python3.10/site-packages/pandas/io/parsers/readers.py:1705\u001b[0m, in \u001b[0;36mTextFileReader._make_engine\u001b[0;34m(self, f, engine)\u001b[0m\n\u001b[1;32m   1703\u001b[0m     \u001b[39mif\u001b[39;00m \u001b[39m\"\u001b[39m\u001b[39mb\u001b[39m\u001b[39m\"\u001b[39m \u001b[39mnot\u001b[39;00m \u001b[39min\u001b[39;00m mode:\n\u001b[1;32m   1704\u001b[0m         mode \u001b[39m+\u001b[39m\u001b[39m=\u001b[39m \u001b[39m\"\u001b[39m\u001b[39mb\u001b[39m\u001b[39m\"\u001b[39m\n\u001b[0;32m-> 1705\u001b[0m \u001b[39mself\u001b[39m\u001b[39m.\u001b[39mhandles \u001b[39m=\u001b[39m get_handle(\n\u001b[1;32m   1706\u001b[0m     f,\n\u001b[1;32m   1707\u001b[0m     mode,\n\u001b[1;32m   1708\u001b[0m     encoding\u001b[39m=\u001b[39;49m\u001b[39mself\u001b[39;49m\u001b[39m.\u001b[39;49moptions\u001b[39m.\u001b[39;49mget(\u001b[39m\"\u001b[39;49m\u001b[39mencoding\u001b[39;49m\u001b[39m\"\u001b[39;49m, \u001b[39mNone\u001b[39;49;00m),\n\u001b[1;32m   1709\u001b[0m     compression\u001b[39m=\u001b[39;49m\u001b[39mself\u001b[39;49m\u001b[39m.\u001b[39;49moptions\u001b[39m.\u001b[39;49mget(\u001b[39m\"\u001b[39;49m\u001b[39mcompression\u001b[39;49m\u001b[39m\"\u001b[39;49m, \u001b[39mNone\u001b[39;49;00m),\n\u001b[1;32m   1710\u001b[0m     memory_map\u001b[39m=\u001b[39;49m\u001b[39mself\u001b[39;49m\u001b[39m.\u001b[39;49moptions\u001b[39m.\u001b[39;49mget(\u001b[39m\"\u001b[39;49m\u001b[39mmemory_map\u001b[39;49m\u001b[39m\"\u001b[39;49m, \u001b[39mFalse\u001b[39;49;00m),\n\u001b[1;32m   1711\u001b[0m     is_text\u001b[39m=\u001b[39;49mis_text,\n\u001b[1;32m   1712\u001b[0m     errors\u001b[39m=\u001b[39;49m\u001b[39mself\u001b[39;49m\u001b[39m.\u001b[39;49moptions\u001b[39m.\u001b[39;49mget(\u001b[39m\"\u001b[39;49m\u001b[39mencoding_errors\u001b[39;49m\u001b[39m\"\u001b[39;49m, \u001b[39m\"\u001b[39;49m\u001b[39mstrict\u001b[39;49m\u001b[39m\"\u001b[39;49m),\n\u001b[1;32m   1713\u001b[0m     storage_options\u001b[39m=\u001b[39;49m\u001b[39mself\u001b[39;49m\u001b[39m.\u001b[39;49moptions\u001b[39m.\u001b[39;49mget(\u001b[39m\"\u001b[39;49m\u001b[39mstorage_options\u001b[39;49m\u001b[39m\"\u001b[39;49m, \u001b[39mNone\u001b[39;49;00m),\n\u001b[1;32m   1714\u001b[0m )\n\u001b[1;32m   1715\u001b[0m \u001b[39massert\u001b[39;00m \u001b[39mself\u001b[39m\u001b[39m.\u001b[39mhandles \u001b[39mis\u001b[39;00m \u001b[39mnot\u001b[39;00m \u001b[39mNone\u001b[39;00m\n\u001b[1;32m   1716\u001b[0m f \u001b[39m=\u001b[39m \u001b[39mself\u001b[39m\u001b[39m.\u001b[39mhandles\u001b[39m.\u001b[39mhandle\n",
      "File \u001b[0;32m~/.local/lib/python3.10/site-packages/pandas/io/common.py:863\u001b[0m, in \u001b[0;36mget_handle\u001b[0;34m(path_or_buf, mode, encoding, compression, memory_map, is_text, errors, storage_options)\u001b[0m\n\u001b[1;32m    858\u001b[0m \u001b[39melif\u001b[39;00m \u001b[39misinstance\u001b[39m(handle, \u001b[39mstr\u001b[39m):\n\u001b[1;32m    859\u001b[0m     \u001b[39m# Check whether the filename is to be opened in binary mode.\u001b[39;00m\n\u001b[1;32m    860\u001b[0m     \u001b[39m# Binary mode does not support 'encoding' and 'newline'.\u001b[39;00m\n\u001b[1;32m    861\u001b[0m     \u001b[39mif\u001b[39;00m ioargs\u001b[39m.\u001b[39mencoding \u001b[39mand\u001b[39;00m \u001b[39m\"\u001b[39m\u001b[39mb\u001b[39m\u001b[39m\"\u001b[39m \u001b[39mnot\u001b[39;00m \u001b[39min\u001b[39;00m ioargs\u001b[39m.\u001b[39mmode:\n\u001b[1;32m    862\u001b[0m         \u001b[39m# Encoding\u001b[39;00m\n\u001b[0;32m--> 863\u001b[0m         handle \u001b[39m=\u001b[39m \u001b[39mopen\u001b[39;49m(\n\u001b[1;32m    864\u001b[0m             handle,\n\u001b[1;32m    865\u001b[0m             ioargs\u001b[39m.\u001b[39;49mmode,\n\u001b[1;32m    866\u001b[0m             encoding\u001b[39m=\u001b[39;49mioargs\u001b[39m.\u001b[39;49mencoding,\n\u001b[1;32m    867\u001b[0m             errors\u001b[39m=\u001b[39;49merrors,\n\u001b[1;32m    868\u001b[0m             newline\u001b[39m=\u001b[39;49m\u001b[39m\"\u001b[39;49m\u001b[39m\"\u001b[39;49m,\n\u001b[1;32m    869\u001b[0m         )\n\u001b[1;32m    870\u001b[0m     \u001b[39melse\u001b[39;00m:\n\u001b[1;32m    871\u001b[0m         \u001b[39m# Binary mode\u001b[39;00m\n\u001b[1;32m    872\u001b[0m         handle \u001b[39m=\u001b[39m \u001b[39mopen\u001b[39m(handle, ioargs\u001b[39m.\u001b[39mmode)\n",
      "\u001b[0;31mFileNotFoundError\u001b[0m: [Errno 2] No such file or directory: 'Content.csv'"
     ]
    }
   ],
   "source": [
    "import pandas as pd\n",
    "import os\n",
    "\n",
    "# Load data from csv files\n",
    "data_path = os.listdir(/workspaces/Data-Science-Projects/Accenture project/Original Data/)\n",
    "content = pd.read_csv(data_path + \"Content.csv\")\n",
    "reaction_types = pd.read_csv(data_path + 'ReactionTypes.csv')\n",
    "reactions = pd.read_csv(data_path + 'Reactions.csv')"
   ]
  },
  {
   "attachments": {},
   "cell_type": "markdown",
   "metadata": {
    "datalore": {
     "hide_input_from_viewers": false,
     "hide_output_from_viewers": false,
     "node_id": "QIkZd5bSr1kXWutpNH61bz",
     "report_properties": {},
     "type": "MD"
    }
   },
   "source": [
    "### 2. Inspect, Delete obsolete columns and Create dataframe"
   ]
  },
  {
   "cell_type": "code",
   "execution_count": null,
   "metadata": {
    "datalore": {
     "hide_input_from_viewers": false,
     "hide_output_from_viewers": false,
     "node_id": "l85PVcwSVKonaY75K43kgX",
     "report_properties": {},
     "type": "CODE"
    }
   },
   "outputs": [
    {
     "name": "stdout",
     "output_type": "stream",
     "text": [
      "<class 'pandas.core.frame.DataFrame'>\n",
      "RangeIndex: 1000 entries, 0 to 999\n",
      "Data columns (total 3 columns):\n",
      " #   Column      Non-Null Count  Dtype \n",
      "---  ------      --------------  ----- \n",
      " 0   Content ID  1000 non-null   object\n",
      " 1   Type        1000 non-null   object\n",
      " 2   Category    1000 non-null   object\n",
      "dtypes: object(3)\n",
      "memory usage: 23.6+ KB\n",
      "None\n",
      "<class 'pandas.core.frame.DataFrame'>\n",
      "RangeIndex: 25553 entries, 0 to 25552\n",
      "Data columns (total 3 columns):\n",
      " #   Column      Non-Null Count  Dtype \n",
      "---  ------      --------------  ----- \n",
      " 0   Content ID  25553 non-null  object\n",
      " 1   Type        24573 non-null  object\n",
      " 2   Datetime    25553 non-null  object\n",
      "dtypes: object(3)\n",
      "memory usage: 599.0+ KB\n",
      "None\n",
      "<class 'pandas.core.frame.DataFrame'>\n",
      "RangeIndex: 16 entries, 0 to 15\n",
      "Data columns (total 3 columns):\n",
      " #   Column     Non-Null Count  Dtype \n",
      "---  ------     --------------  ----- \n",
      " 0   Type       16 non-null     object\n",
      " 1   Sentiment  16 non-null     object\n",
      " 2   Score      16 non-null     int64 \n",
      "dtypes: int64(1), object(2)\n",
      "memory usage: 512.0+ bytes\n",
      "None\n"
     ]
    }
   ],
   "source": [
    "# Droping unneeded columns, renaming and checking data types\n",
    "content.drop(['Unnamed: 0','User ID','URL'],axis=1, inplace=True)\n",
    "print(content.info())\n",
    "\n",
    "reactions.drop(['Unnamed: 0','User ID'], axis=1, inplace=True)\n",
    "print(reactions.info())\n",
    "\n",
    "reaction_types.drop('Unnamed: 0', axis=1, inplace=True)\n",
    "print(reaction_types.info())"
   ]
  },
  {
   "cell_type": "code",
   "execution_count": null,
   "metadata": {
    "datalore": {
     "hide_input_from_viewers": false,
     "hide_output_from_viewers": false,
     "node_id": "4J47gphBhGpTu30fLgalwl",
     "report_properties": {},
     "type": "CODE"
    }
   },
   "outputs": [
    {
     "name": "stdout",
     "output_type": "stream",
     "text": [
      "                             Content ID Reaction_type             Datetime  \\\n",
      "0  97522e57-d9ab-4bd6-97bf-c24d952602d2           NaN  2021-04-22 15:17:15   \n",
      "1  97522e57-d9ab-4bd6-97bf-c24d952602d2       disgust  2020-11-07 09:43:50   \n",
      "2  97522e57-d9ab-4bd6-97bf-c24d952602d2       dislike  2021-06-17 12:22:51   \n",
      "3  97522e57-d9ab-4bd6-97bf-c24d952602d2        scared  2021-04-18 05:13:58   \n",
      "4  97522e57-d9ab-4bd6-97bf-c24d952602d2       disgust  2021-01-06 19:13:01   \n",
      "5  97522e57-d9ab-4bd6-97bf-c24d952602d2    interested  2020-08-23 12:25:58   \n",
      "6  97522e57-d9ab-4bd6-97bf-c24d952602d2       peeking  2020-12-07 06:27:54   \n",
      "7  97522e57-d9ab-4bd6-97bf-c24d952602d2       cherish  2021-04-11 17:35:49   \n",
      "\n",
      "  Content_type  Category  \n",
      "0        photo  Studying  \n",
      "1        photo  Studying  \n",
      "2        photo  Studying  \n",
      "3        photo  Studying  \n",
      "4        photo  Studying  \n",
      "5        photo  Studying  \n",
      "6        photo  Studying  \n",
      "7        photo  Studying  \n",
      "                             Content ID Reaction_type             Datetime  \\\n",
      "0  97522e57-d9ab-4bd6-97bf-c24d952602d2           NaN  2021-04-22 15:17:15   \n",
      "1  97522e57-d9ab-4bd6-97bf-c24d952602d2       disgust  2020-11-07 09:43:50   \n",
      "2  97522e57-d9ab-4bd6-97bf-c24d952602d2       dislike  2021-06-17 12:22:51   \n",
      "3  97522e57-d9ab-4bd6-97bf-c24d952602d2        scared  2021-04-18 05:13:58   \n",
      "4  97522e57-d9ab-4bd6-97bf-c24d952602d2       disgust  2021-01-06 19:13:01   \n",
      "5  97522e57-d9ab-4bd6-97bf-c24d952602d2    interested  2020-08-23 12:25:58   \n",
      "6  97522e57-d9ab-4bd6-97bf-c24d952602d2       peeking  2020-12-07 06:27:54   \n",
      "7  97522e57-d9ab-4bd6-97bf-c24d952602d2       cherish  2021-04-11 17:35:49   \n",
      "\n",
      "  Content_type  Category Sentiment  Score  \n",
      "0        photo  Studying       NaN    NaN  \n",
      "1        photo  Studying  negative    0.0  \n",
      "2        photo  Studying  negative   10.0  \n",
      "3        photo  Studying  negative   15.0  \n",
      "4        photo  Studying  negative    0.0  \n",
      "5        photo  Studying  positive   30.0  \n",
      "6        photo  Studying   neutral   35.0  \n",
      "7        photo  Studying  positive   70.0  \n",
      "Content ID         0\n",
      "Reaction_type    980\n",
      "Datetime           0\n",
      "Content_type       0\n",
      "Category           0\n",
      "Sentiment        980\n",
      "Score            980\n",
      "dtype: int64\n"
     ]
    }
   ],
   "source": [
    "# Create a Dataframe by merging data\n",
    "reactions = reactions.rename(columns={\"Type\":\"Reaction_type\"})\n",
    "\n",
    "\n",
    "df = reactions.merge(content, how=\"left\", on=\"Content ID\")\n",
    "df = df.rename(columns={'Type_x':'Reaction_type','Type':'Content_type'})\n",
    "print(df.head(8))\n",
    "\n",
    "reaction_types = reaction_types.rename(columns={\"Type\":\"Reaction_type\"})\n",
    "df = df.merge(reaction_types, how=\"left\", on='Reaction_type')\n",
    "print(df.head(8))\n",
    "\n",
    "\n",
    "print(df.isnull().sum()) # checking for null values"
   ]
  },
  {
   "attachments": {},
   "cell_type": "markdown",
   "metadata": {
    "datalore": {
     "hide_input_from_viewers": false,
     "hide_output_from_viewers": false,
     "node_id": "Oq3c67mzB7rCgKBafd8M6Y",
     "report_properties": {},
     "type": "MD"
    }
   },
   "source": [
    "### 3. Data Cleaning"
   ]
  },
  {
   "cell_type": "code",
   "execution_count": null,
   "metadata": {
    "datalore": {
     "hide_input_from_viewers": false,
     "hide_output_from_viewers": false,
     "node_id": "iQ8QpWEmxXP5c94pnEHuIs",
     "report_properties": {},
     "type": "CODE"
    }
   },
   "outputs": [
    {
     "name": "stdout",
     "output_type": "stream",
     "text": [
      "<class 'pandas.core.frame.DataFrame'>\n",
      "Int64Index: 25553 entries, 0 to 25552\n",
      "Data columns (total 7 columns):\n",
      " #   Column         Non-Null Count  Dtype  \n",
      "---  ------         --------------  -----  \n",
      " 0   Content ID     25553 non-null  object \n",
      " 1   Reaction_type  24573 non-null  object \n",
      " 2   Datetime       25553 non-null  object \n",
      " 3   Content_type   25553 non-null  object \n",
      " 4   Category       25553 non-null  object \n",
      " 5   Sentiment      24573 non-null  object \n",
      " 6   Score          24573 non-null  float64\n",
      "dtypes: float64(1), object(6)\n",
      "memory usage: 1.6+ MB\n",
      "['Studying' 'healthy eating' 'technology' 'food' 'cooking' 'dogs' 'soccer'\n",
      " 'public speaking' 'science' 'tennis' 'travel' 'fitness' 'education'\n",
      " 'studying' 'veganism' 'Animals' 'animals' 'culture' '\"culture\"' 'Fitness'\n",
      " '\"studying\"' 'Veganism' '\"animals\"' 'Travel' '\"soccer\"' 'Education'\n",
      " '\"dogs\"' 'Technology' 'Soccer' '\"tennis\"' 'Culture' '\"food\"' 'Food'\n",
      " '\"technology\"' 'Healthy Eating' '\"cooking\"' 'Science' '\"public speaking\"'\n",
      " '\"veganism\"' 'Public Speaking' '\"science\"']\n",
      "41\n",
      "16\n"
     ]
    }
   ],
   "source": [
    "# Delete rows with null values in content_type\n",
    "df = df.dropna(subset=[\"Content_type\"])\n",
    "df.info()\n",
    "\n",
    "# Identify unique categories\n",
    "print(df['Category'].unique())\n",
    "print(df['Category'].nunique())\n",
    "\n",
    "\n",
    "# format quotations to single quotations\n",
    "df['Category'] = df.Category.replace('\"','',regex=True)\n",
    "df['Category'] = df.Category.str.lower()\n",
    "print(df['Category'].nunique())"
   ]
  },
  {
   "attachments": {},
   "cell_type": "markdown",
   "metadata": {
    "datalore": {
     "hide_input_from_viewers": false,
     "hide_output_from_viewers": false,
     "node_id": "SO9G9vVAa6XttGPCJmTuT1",
     "report_properties": {},
     "type": "MD"
    }
   },
   "source": [
    "### 4. Top 5 Aggregate Categories"
   ]
  },
  {
   "cell_type": "code",
   "execution_count": null,
   "metadata": {
    "datalore": {
     "hide_input_from_viewers": false,
     "hide_output_from_viewers": false,
     "node_id": "iCGapfYKqQyPbTjptqA4Dk",
     "report_properties": {},
     "type": "CODE"
    }
   },
   "outputs": [
    {
     "name": "stdout",
     "output_type": "stream",
     "text": [
      "Category\n",
      "animals           74965.0\n",
      "science           71168.0\n",
      "healthy eating    69339.0\n",
      "technology        68738.0\n",
      "food              66676.0\n",
      "Name: Score, dtype: float64\n"
     ]
    }
   ],
   "source": [
    "# Using the SQL logic below with pandas\n",
    "# SELECT  *, sum(score) as 'Top 5 Categories' FROM df\n",
    "# WHERE content_type is not null\n",
    "# group by 1\n",
    "# order by 2 desc\n",
    "# limit 5\n",
    "\n",
    "df.to_csv('clean_accentdata.csv') # Cleaned data csv\n",
    "\n",
    "''' Note: NaN values in sentiment,reactions & scores are Structurally Missing Data since without a reaction, there's no sentiment or score that can be associated with the content '''\n",
    "\n",
    "sum_cat_df = df.groupby('Category').Score.sum() # total scores in each category\n",
    "sum_cat_df = sum_cat_df.sort_values(ascending=False)\n",
    "\n",
    "print(sum_cat_df.head())"
   ]
  },
  {
   "cell_type": "code",
   "execution_count": null,
   "metadata": {
    "datalore": {
     "hide_input_from_viewers": true,
     "hide_output_from_viewers": true,
     "node_id": "fvi856TFCpFmfKxsFsyz5P",
     "type": "CODE"
    }
   },
   "outputs": [
    {
     "data": {
      "text/html": [
       "<div>\n",
       "<style scoped>\n",
       "    .dataframe tbody tr th:only-of-type {\n",
       "        vertical-align: middle;\n",
       "    }\n",
       "\n",
       "    .dataframe tbody tr th {\n",
       "        vertical-align: top;\n",
       "    }\n",
       "\n",
       "    .dataframe thead th {\n",
       "        text-align: right;\n",
       "    }\n",
       "</style>\n",
       "<table border=\"1\" class=\"dataframe\">\n",
       "  <thead>\n",
       "    <tr style=\"text-align: right;\">\n",
       "      <th></th>\n",
       "      <th>Unnamed: 0</th>\n",
       "      <th>Type</th>\n",
       "      <th>Sentiment</th>\n",
       "      <th>Score</th>\n",
       "    </tr>\n",
       "  </thead>\n",
       "  <tbody>\n",
       "    <tr>\n",
       "      <th>0</th>\n",
       "      <td>0</td>\n",
       "      <td>heart</td>\n",
       "      <td>positive</td>\n",
       "      <td>60</td>\n",
       "    </tr>\n",
       "    <tr>\n",
       "      <th>1</th>\n",
       "      <td>1</td>\n",
       "      <td>want</td>\n",
       "      <td>positive</td>\n",
       "      <td>70</td>\n",
       "    </tr>\n",
       "    <tr>\n",
       "      <th>2</th>\n",
       "      <td>2</td>\n",
       "      <td>disgust</td>\n",
       "      <td>negative</td>\n",
       "      <td>0</td>\n",
       "    </tr>\n",
       "    <tr>\n",
       "      <th>3</th>\n",
       "      <td>3</td>\n",
       "      <td>hate</td>\n",
       "      <td>negative</td>\n",
       "      <td>5</td>\n",
       "    </tr>\n",
       "    <tr>\n",
       "      <th>4</th>\n",
       "      <td>4</td>\n",
       "      <td>interested</td>\n",
       "      <td>positive</td>\n",
       "      <td>30</td>\n",
       "    </tr>\n",
       "    <tr>\n",
       "      <th>5</th>\n",
       "      <td>5</td>\n",
       "      <td>indifferent</td>\n",
       "      <td>neutral</td>\n",
       "      <td>20</td>\n",
       "    </tr>\n",
       "    <tr>\n",
       "      <th>6</th>\n",
       "      <td>6</td>\n",
       "      <td>love</td>\n",
       "      <td>positive</td>\n",
       "      <td>65</td>\n",
       "    </tr>\n",
       "    <tr>\n",
       "      <th>7</th>\n",
       "      <td>7</td>\n",
       "      <td>super love</td>\n",
       "      <td>positive</td>\n",
       "      <td>75</td>\n",
       "    </tr>\n",
       "    <tr>\n",
       "      <th>8</th>\n",
       "      <td>8</td>\n",
       "      <td>cherish</td>\n",
       "      <td>positive</td>\n",
       "      <td>70</td>\n",
       "    </tr>\n",
       "    <tr>\n",
       "      <th>9</th>\n",
       "      <td>9</td>\n",
       "      <td>adore</td>\n",
       "      <td>positive</td>\n",
       "      <td>72</td>\n",
       "    </tr>\n",
       "    <tr>\n",
       "      <th>10</th>\n",
       "      <td>10</td>\n",
       "      <td>like</td>\n",
       "      <td>positive</td>\n",
       "      <td>50</td>\n",
       "    </tr>\n",
       "    <tr>\n",
       "      <th>11</th>\n",
       "      <td>11</td>\n",
       "      <td>dislike</td>\n",
       "      <td>negative</td>\n",
       "      <td>10</td>\n",
       "    </tr>\n",
       "    <tr>\n",
       "      <th>12</th>\n",
       "      <td>12</td>\n",
       "      <td>intrigued</td>\n",
       "      <td>positive</td>\n",
       "      <td>45</td>\n",
       "    </tr>\n",
       "    <tr>\n",
       "      <th>13</th>\n",
       "      <td>13</td>\n",
       "      <td>peeking</td>\n",
       "      <td>neutral</td>\n",
       "      <td>35</td>\n",
       "    </tr>\n",
       "    <tr>\n",
       "      <th>14</th>\n",
       "      <td>14</td>\n",
       "      <td>scared</td>\n",
       "      <td>negative</td>\n",
       "      <td>15</td>\n",
       "    </tr>\n",
       "    <tr>\n",
       "      <th>15</th>\n",
       "      <td>15</td>\n",
       "      <td>worried</td>\n",
       "      <td>negative</td>\n",
       "      <td>12</td>\n",
       "    </tr>\n",
       "  </tbody>\n",
       "</table>\n",
       "</div>"
      ]
     },
     "metadata": {},
     "output_type": "display_data"
    }
   ],
   "source": [
    "reaction_types = pd.read_csv('ReactionTypes.csv')\n",
    "reaction_types"
   ]
  },
  {
   "cell_type": "code",
   "execution_count": null,
   "metadata": {
    "datalore": {
     "hide_input_from_viewers": true,
     "hide_output_from_viewers": true,
     "node_id": "TtXt09qEJ29WQr7h8vIkDL",
     "plot_state": {
      "label": "Reaction types",
      "plots": [
       {
        "colorAxis": {
         "label": "",
         "scale": "NONE",
         "value": "Sentiment"
        },
        "type": "POINT",
        "variable": "reaction_types",
        "xAxis": {
         "label": "",
         "scale": "NONE",
         "value": "Type"
        },
        "yAxis": {
         "label": "",
         "scale": "NONE",
         "value": "Score"
        }
       }
      ],
      "reactive": true,
      "sampling": true
     },
     "type": "PLOT"
    }
   },
   "outputs": [
    {
     "data": {
      "text/html": [
       "<html lang=\"en\">\n",
       "   <head>\n",
       "       <script type=\"text/javascript\" data-lets-plot-script=\"library\" src=\"https://cdn.jsdelivr.net/gh/JetBrains/lets-plot@v3.0.0/js-package/distr/lets-plot.min.js\"></script>\n",
       "   </head>\n",
       "   <body>\n",
       "          <div id=\"muuIGF\"></div>\n",
       "   <script type=\"text/javascript\" data-lets-plot-script=\"plot\">\n",
       "       var plotSpec={\n",
       "\"mapping\":{\n",
       "},\n",
       "\"data_meta\":{\n",
       "},\n",
       "\"ggtitle\":{\n",
       "\"text\":\"Reaction types\"\n",
       "},\n",
       "\"kind\":\"plot\",\n",
       "\"scales\":[],\n",
       "\"layers\":[{\n",
       "\"geom\":\"point\",\n",
       "\"data\":{\n",
       "\"Type\":[\"heart\",\"want\",\"disgust\",\"hate\",\"interested\",\"indifferent\",\"love\",\"super love\",\"cherish\",\"adore\",\"like\",\"dislike\",\"intrigued\",\"peeking\",\"scared\",\"worried\"],\n",
       "\"Sentiment\":[\"positive\",\"positive\",\"negative\",\"negative\",\"positive\",\"neutral\",\"positive\",\"positive\",\"positive\",\"positive\",\"positive\",\"negative\",\"positive\",\"neutral\",\"negative\",\"negative\"],\n",
       "\"Score\":[60.0,70.0,0.0,5.0,30.0,20.0,65.0,75.0,70.0,72.0,50.0,10.0,45.0,35.0,15.0,12.0]\n",
       "},\n",
       "\"mapping\":{\n",
       "\"x\":\"Type\",\n",
       "\"y\":\"Score\",\n",
       "\"color\":\"Sentiment\"\n",
       "},\n",
       "\"sampling\":\"none\",\n",
       "\"data_meta\":{\n",
       "}\n",
       "}],\n",
       "\"metainfo_list\":[]\n",
       "};\n",
       "       var plotContainer = document.getElementById(\"muuIGF\");\n",
       "       LetsPlot.buildPlotFromProcessedSpecs(plotSpec, -1, -1, plotContainer);\n",
       "   </script>\n",
       "   </body>\n",
       "</html>"
      ]
     },
     "metadata": {},
     "output_type": "display_data"
    }
   ],
   "source": [
    "from lets_plot import * \n",
    "ggplot() + \\\n",
    "geom_point(aes(x=\"Type\", y=\"Score\", color=\"Sentiment\"), data=reaction_types, sampling=\"none\" if reaction_types.size < 2500 else sampling_systematic(n=2500)) + \\\n",
    "ggtitle(\"Reaction types\") "
   ]
  }
 ],
 "metadata": {
  "datalore": {
   "base_environment": "default",
   "computation_mode": "JUPYTER",
   "package_manager": "pip",
   "packages": [],
   "version": 1
  },
  "kernelspec": {
   "display_name": "Python 3",
   "language": "python",
   "name": "python3"
  },
  "language_info": {
   "codemirror_mode": {
    "name": "ipython",
    "version": 3
   },
   "file_extension": ".py",
   "mimetype": "text/x-python",
   "name": "python",
   "nbconvert_exporter": "python",
   "pygments_lexer": "ipython3",
   "version": "3.10.8"
  }
 },
 "nbformat": 4,
 "nbformat_minor": 4
}
