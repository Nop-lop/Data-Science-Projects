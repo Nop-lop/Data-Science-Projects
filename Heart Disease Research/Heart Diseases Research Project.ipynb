{
 "cells": [
  {
   "cell_type": "code",
   "execution_count": 1,
   "metadata": {
    "datalore": {
     "hide_input_from_viewers": false,
     "hide_output_from_viewers": false,
     "node_id": "GZwMJpK9KjCQzkiPKUuHnc",
     "type": "CODE"
    }
   },
   "outputs": [],
   "source": [
    "# import libraries\n",
    "import numpy as np\n",
    "import pandas as pd\n",
    "from scipy.stats import ttest_1samp, binom_test"
   ]
  },
  {
   "cell_type": "code",
   "execution_count": 2,
   "metadata": {
    "datalore": {
     "hide_input_from_viewers": false,
     "hide_output_from_viewers": false,
     "node_id": "TuiOOVugfjSwSW5D0edZYd",
     "type": "CODE"
    }
   },
   "outputs": [
    {
     "name": "stdout",
     "output_type": "stream",
     "text": [
      "The mean cholesterol level for patients with heart disease is 251.4748201438849\n",
      "The mean cholesterol level for patients without heart disease is 242.640243902439\n"
     ]
    }
   ],
   "source": [
    "# load data\n",
    "heart = pd.read_csv('Heart Diseases UCL - Sheet1.csv')\n",
    "yes_hd = heart[heart.heart_disease=='presence']\n",
    "no_hd = heart[heart.heart_disease == 'absence']\n",
    "\n",
    "# investigating cholestrol levels in patients with heart diease\n",
    "chol_hd = yes_hd.chol\n",
    "print('The mean cholesterol level for patients with heart disease is ' + str((chol_hd.mean())))\n",
    "# 240 mg/dl is considered high (and therefore unhealthy)\n",
    "\n",
    "chol_no_hd = no_hd.chol\n",
    "print('The mean cholesterol level for patients without heart disease is ' + str(chol_no_hd.mean()))"
   ]
  },
  {
   "attachments": {},
   "cell_type": "markdown",
   "metadata": {
    "datalore": {
     "hide_input_from_viewers": false,
     "hide_output_from_viewers": false,
     "node_id": "yeLRoiMMZLUuFn7Dnx3fZy",
     "type": "MD"
    }
   },
   "source": [
    "#### 1. Cholesterol Analysis\n",
    "\n",
    "\n",
    "Question 1: Do people with heart disease have higher cholesterol levels (greater than or equal to 240 mg/dl) on average?\n",
    "\n",
    "To investigate, we're going to conduct some hypothesis testing!\n",
    "- Null: People with heart diseases have an average cholesterol level equal to 240 mg/dl\n",
    "- Alternative: People with heart disease have an average cholesterol level that is **greater** than 240 mg/dl\n",
    "\n",
    "Running the code in the cell below will reveal a p-value of 0.0035 (0.35%). An interpretation of this is that there is a (100%-.35% = 99.65%) chance that the average cholesterol level is significantly higher than 240 mg/dl"
   ]
  },
  {
   "cell_type": "code",
   "execution_count": 3,
   "metadata": {
    "datalore": {
     "hide_input_from_viewers": false,
     "hide_output_from_viewers": false,
     "node_id": "CIb6sxz4gmyszgnanLOfCI",
     "type": "CODE"
    }
   },
   "outputs": [
    {
     "name": "stdout",
     "output_type": "stream",
     "text": [
      "The p-value for patients with heart disease is 0.0035411033905155707\n"
     ]
    }
   ],
   "source": [
    "# the p-value here includes the greater parameter in the updated version of scipy\n",
    "tstat,pval = ttest_1samp(chol_hd, 240, alternative='greater')\n",
    "print('The p-value for patients with heart disease is ' +str(pval))\n"
   ]
  },
  {
   "attachments": {},
   "cell_type": "markdown",
   "metadata": {
    "datalore": {
     "hide_input_from_viewers": false,
     "hide_output_from_viewers": false,
     "node_id": "Rmu2yUyOBk4kRdIpn4GSak",
     "type": "MD"
    }
   },
   "source": [
    "#### Question 2: A repetition of 'Question 1' but for patients **NOT** diagnosed with a heart disease.\n",
    "\n",
    "Do patients without heart disease have average cholesterol levels significantly above 240 mg/dl?\n",
    "- Null: People with heart diseases have an average cholesterol level equal to 240 mg/dl\n",
    "- Alternative: People with heart disease have an average cholesterol level that is **greater** than 240 mg/dl\n",
    "\n",
    "The p-value for this test is 0.264, which is more than 0.05 for a 5% significant threshold, suggesting that patients not diagnosed with heart disease have an average cholesterol level **NOT** significantly higher than 240 mg/dl. This checks with the average mean of cholesterol level in chol_no_hd"
   ]
  },
  {
   "cell_type": "code",
   "execution_count": 4,
   "metadata": {
    "datalore": {
     "hide_input_from_viewers": false,
     "hide_output_from_viewers": false,
     "node_id": "RelpqAf6MBRamLQjXwJdpQ",
     "type": "CODE"
    }
   },
   "outputs": [
    {
     "name": "stdout",
     "output_type": "stream",
     "text": [
      "The p-value for patients without HD is 0.26397120232220506\n"
     ]
    }
   ],
   "source": [
    "tstat2,pval2 = ttest_1samp(chol_no_hd, 240, alternative='greater')\n",
    "print('The p-value for patients without HD is ' +str(pval2))"
   ]
  },
  {
   "attachments": {},
   "cell_type": "markdown",
   "metadata": {
    "datalore": {
     "hide_input_from_viewers": false,
     "hide_output_from_viewers": false,
     "node_id": "VntQCxzf3xs7nsfi8qvB5j",
     "type": "MD"
    }
   },
   "source": [
    "## 2. Fasting Blood Sugar Analysis\n",
    "\n",
    "The fbs column indicates whether or not a patient's blood sugar level is greater than 120 mg/dl, 1 means fb is greater than 120 mg/dl; 0 means it was less than or equal to 120 mg/dl\n",
    "\n",
    "We can find the total number of patients by simply summing up the values in the fbs column"
   ]
  },
  {
   "cell_type": "code",
   "execution_count": 5,
   "metadata": {
    "datalore": {
     "hide_input_from_viewers": false,
     "hide_output_from_viewers": false,
     "node_id": "yOiVJorV8QejM6es3onSPU",
     "type": "CODE"
    }
   },
   "outputs": [
    {
     "name": "stdout",
     "output_type": "stream",
     "text": [
      "The total number of patients is 303\n",
      "The number of patients with high fasting blood sugar is 45\n"
     ]
    }
   ],
   "source": [
    "## Fasting Blood Sugar Analysis\n",
    "\n",
    "num_patients = len(np.array(heart))\n",
    "print('The total number of patients is ' + str(num_patients))\n",
    "\n",
    "highfbs_patients = heart[heart.fbs == 1]\n",
    "num_highfbs_patients = len(np.array(highfbs_patients))\n",
    "print('The number of patients with high fasting blood sugar is ' + str(num_highfbs_patients))"
   ]
  },
  {
   "attachments": {},
   "cell_type": "markdown",
   "metadata": {
    "datalore": {
     "hide_input_from_viewers": false,
     "hide_output_from_viewers": false,
     "node_id": "YQ4A7mSyjW3kD9m9pjHiWx",
     "type": "MD"
    }
   },
   "source": [
    "- Sometimes, part of an analysis will involve comparing a sample to known population values to see if the sample appears to be representative of the general population.\n",
    "\n",
    "By some estimates, about 8% of the U.S. population had diabetes (diagnosed or undiagnosed) in 1988 when this data was collected. While there are multiple tests that contribute to a diabetes diagnosis, fasting blood sugar level greater than 120 mg/dl can be indicative of diabetes (or at least, pre-diabetes). If this sample were representative of the population, approximately how many people would we expect to have diabetes. \n",
    "\n",
    "we'll calculate and print this number.\n",
    "\n",
    "Is this value similar to the number of patients with a resting blood sugar above 120 mg/dl - or different?"
   ]
  },
  {
   "cell_type": "code",
   "execution_count": 6,
   "metadata": {
    "datalore": {
     "hide_input_from_viewers": false,
     "hide_output_from_viewers": false,
     "node_id": "ufrLZoHOfTOSHaHrSCIqwf",
     "type": "CODE"
    }
   },
   "outputs": [
    {
     "name": "stdout",
     "output_type": "stream",
     "text": [
      "The expected number of patients with diabetes, if the sample is representative of the population is 24\n"
     ]
    }
   ],
   "source": [
    "expected_num_fbs = 0.08 * num_patients\n",
    "print('The expected number of patients with diabetes, if the sample is representative of the population is ' + str(round(expected_num_fbs)))\n",
    "\n",
    "# The expected number is 24, which is about half the number of people with high fbs (45)."
   ]
  },
  {
   "attachments": {},
   "cell_type": "markdown",
   "metadata": {
    "datalore": {
     "hide_input_from_viewers": false,
     "hide_output_from_viewers": false,
     "node_id": "l0AwxBwXwuUHnhN6BLusfL",
     "type": "MD"
    }
   },
   "source": [
    "Does this sample come from a population in which the rate of fbs > 120 mg/dl is equal to 8%?\n",
    "\n",
    "We are going to test this using the following hypotheses:\n",
    "- Null: This sample was drawn from a population where 8% of people have a fbs > 120 mg/dl\n",
    "- Alternative: This sample was drawn from a population where more than 8% of the people have fbs > 120 mg/dl\n",
    "\n",
    "\n",
    "The p-value from the test is 4.69e-05. This can be interpreted as; there is a (100-p_value= 99.995%) chance that this sample was drawn from a population where more than 8% of those people have high fast blood sugar when there at a 5% significance threshold."
   ]
  },
  {
   "cell_type": "code",
   "execution_count": 7,
   "metadata": {
    "datalore": {
     "hide_input_from_viewers": false,
     "hide_output_from_viewers": false,
     "node_id": "aqwSMjz85d75LTAXEpIOLN",
     "type": "CODE"
    }
   },
   "outputs": [
    {
     "name": "stdout",
     "output_type": "stream",
     "text": [
      "the p_value is 4.689471951448875e-05\n"
     ]
    },
    {
     "name": "stderr",
     "output_type": "stream",
     "text": [
      "/tmp/ipykernel_8832/3252564033.py:1: DeprecationWarning: 'binom_test' is deprecated in favour of 'binomtest' from version 1.7.0 and will be removed in Scipy 1.12.0.\n",
      "  p_value = binom_test(45, n=303, p=0.08,alternative='greater')\n"
     ]
    }
   ],
   "source": [
    "p_value = binom_test(45, n=303, p=0.08,alternative='greater')\n",
    "print('the p_value is '+ str(p_value))"
   ]
  }
 ],
 "metadata": {
  "datalore": {
   "base_environment": "default",
   "computation_mode": "REACTIVE",
   "package_manager": "pip",
   "packages": [],
   "version": 1
  },
  "kernelspec": {
   "display_name": "Python 3",
   "language": "python",
   "name": "python3"
  },
  "language_info": {
   "codemirror_mode": {
    "name": "ipython",
    "version": 3
   },
   "file_extension": ".py",
   "mimetype": "text/x-python",
   "name": "python",
   "nbconvert_exporter": "python",
   "pygments_lexer": "ipython3",
   "version": "3.10.8"
  }
 },
 "nbformat": 4,
 "nbformat_minor": 4
}
